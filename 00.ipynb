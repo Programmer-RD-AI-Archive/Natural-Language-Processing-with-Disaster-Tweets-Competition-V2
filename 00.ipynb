{
 "cells": [
  {
   "cell_type": "code",
   "execution_count": 1,
   "id": "76c15aca-98ee-47c5-9e1a-5835ac7d6b3c",
   "metadata": {},
   "outputs": [],
   "source": [
    "import nltk\n",
    "from nltk.stem.porter import *\n",
    "from torch.nn import *\n",
    "from torch.optim import *\n",
    "import numpy as np\n",
    "import pandas as pd\n",
    "import torch,torchvision\n",
    "import random\n",
    "from tqdm import *\n",
    "from torch.utils.data import Dataset,DataLoader\n",
    "np.random.seed(21)\n",
    "random.seed(21)\n",
    "torch.manual_seed(21)\n",
    "stemmer = PorterStemmer()"
   ]
  },
  {
   "cell_type": "code",
   "execution_count": 2,
   "id": "93889114-aa7f-4058-9ede-085a3a96a31a",
   "metadata": {},
   "outputs": [],
   "source": [
    "def tokenize(sentence):\n",
    "    return nltk.word_tokenize(sentence)"
   ]
  },
  {
   "cell_type": "code",
   "execution_count": 3,
   "id": "192fe5a2-fd48-4e72-a923-fded0fb0c246",
   "metadata": {},
   "outputs": [
    {
     "data": {
      "text/plain": [
       "['$', '1000']"
      ]
     },
     "execution_count": 3,
     "metadata": {},
     "output_type": "execute_result"
    }
   ],
   "source": [
    "tokenize('$1000')"
   ]
  },
  {
   "cell_type": "code",
   "execution_count": 4,
   "id": "0265d729-d33c-4ffc-b3ac-034de14c05df",
   "metadata": {},
   "outputs": [],
   "source": [
    "def stem(word):\n",
    "    return stemmer.stem(word.lower())"
   ]
  },
  {
   "cell_type": "code",
   "execution_count": 5,
   "id": "504691f9-d14b-4cf6-815f-09d6dd0b29d0",
   "metadata": {},
   "outputs": [
    {
     "data": {
      "text/plain": [
       "'how are you ??'"
      ]
     },
     "execution_count": 5,
     "metadata": {},
     "output_type": "execute_result"
    }
   ],
   "source": [
    "stem('how are you ??')"
   ]
  },
  {
   "cell_type": "code",
   "execution_count": 6,
   "id": "2c31c730-6706-4f16-b1d2-f777ad06662a",
   "metadata": {},
   "outputs": [],
   "source": [
    "def bag_of_words(tokenized_words,all_words):\n",
    "    tokenized_words = [stem(w) for w in tokenized_words]\n",
    "    bag = np.zeros(len(all_words),dtype=np.float32)\n",
    "    for idx,w in enumerate(all_words):\n",
    "        if w in tokenized_words:\n",
    "            bag[idx] = 1.0\n",
    "    return bag"
   ]
  },
  {
   "cell_type": "code",
   "execution_count": 7,
   "id": "7dd80c75-b404-4832-81e9-8de796299ab6",
   "metadata": {},
   "outputs": [
    {
     "data": {
      "text/plain": [
       "array([0., 1.], dtype=float32)"
      ]
     },
     "execution_count": 7,
     "metadata": {},
     "output_type": "execute_result"
    }
   ],
   "source": [
    "bag_of_words(['how'],['safse','how'])"
   ]
  },
  {
   "cell_type": "code",
   "execution_count": 8,
   "id": "7432a0ff-8340-4d5f-aca9-31d0b6842221",
   "metadata": {},
   "outputs": [],
   "source": [
    "data = pd.read_csv('./train.csv')"
   ]
  },
  {
   "cell_type": "code",
   "execution_count": 10,
   "id": "a31ef9fb-499a-4646-a114-63819cdef042",
   "metadata": {},
   "outputs": [],
   "source": [
    "X = data['text']\n",
    "y = data['target']"
   ]
  },
  {
   "cell_type": "code",
   "execution_count": 13,
   "id": "fdc553f4-bbf9-4157-930d-b18dbb360f26",
   "metadata": {},
   "outputs": [],
   "source": [
    "all_words = []\n",
    "all_data = []\n",
    "tags = []"
   ]
  },
  {
   "cell_type": "code",
   "execution_count": 14,
   "id": "1130fbba-5ed1-4c62-90e1-80b96601ea2a",
   "metadata": {},
   "outputs": [],
   "source": [
    "for X_batch,y_batch in zip(X,y):\n",
    "    X_batch = tokenize(X_batch)\n",
    "    new_X = []\n",
    "    for X_batch_in_X_batch in X_batch:\n",
    "        new_X.append(stem(X_batch_in_X_batch))\n",
    "    all_words.extend(new_X)\n",
    "    all_data.append((new_X,y_batch))\n",
    "    tags.append(y_batch)"
   ]
  },
  {
   "cell_type": "code",
   "execution_count": 15,
   "id": "11547c59-812d-4f04-9281-219a93771ec5",
   "metadata": {},
   "outputs": [],
   "source": [
    "all_words = sorted(set(all_words))"
   ]
  },
  {
   "cell_type": "code",
   "execution_count": 16,
   "id": "ff3e398d-df7c-4ac4-8f73-354b17c6279f",
   "metadata": {},
   "outputs": [],
   "source": [
    "tags = sorted(set(tags))"
   ]
  },
  {
   "cell_type": "code",
   "execution_count": 17,
   "id": "a59c33bb-da75-481f-87fa-f7b4ca1145c4",
   "metadata": {},
   "outputs": [],
   "source": [
    "X = []\n",
    "y = []"
   ]
  },
  {
   "cell_type": "code",
   "execution_count": null,
   "id": "0049f41b-8351-4e8c-8989-f688f5516652",
   "metadata": {},
   "outputs": [],
   "source": [
    "for sentence,tag in tqdm(all_data):\n",
    "    bag = bag_of_words(sentence,all_words)\n",
    "    X.append(bag)\n",
    "    y.append(tags.index(tag))"
   ]
  }
 ],
 "metadata": {
  "kernelspec": {
   "display_name": "Python 3.7.3 64-bit ('base': conda)",
   "language": "python",
   "name": "python373jvsc74a57bd0210f9608a45c0278a93c9e0b10db32a427986ab48cfc0d20c139811eb78c4bbc"
  },
  "language_info": {
   "codemirror_mode": {
    "name": "ipython",
    "version": 3
   },
   "file_extension": ".py",
   "mimetype": "text/x-python",
   "name": "python",
   "nbconvert_exporter": "python",
   "pygments_lexer": "ipython3",
   "version": "3.7.11"
  }
 },
 "nbformat": 4,
 "nbformat_minor": 5
}
